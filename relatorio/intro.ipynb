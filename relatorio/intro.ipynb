{
 "cells": [
  {
   "attachments": {},
   "cell_type": "markdown",
   "metadata": {},
   "source": [
    "# Busca Aplicada: Sudoku e Escalonamento de tarefas\n",
    "\n",
    "## Visão geral do projeto\n",
    "\n",
    "Neste trabalho, aplicamos os algoritmos A estrela, busca em profundidade iterativa, subida de encosta e busca pelo menor custo\n",
    "nos problemas de escalonamento de tarefas em dois processadores e no \"puzzle\" do Sudoku (com grade simples). Os quatro algoritmos citados foram aplicados de maneira que eles são agnósticos para o problema. Isto é desde que recebam as funções, estado e espaço de busca apropriados, eles serão capazes de encontrar uma solução. \n",
    "\n",
    "Dividimos esse projeto em pacotes python, separados por pastas na raiz desse projeto. Cada um dos algoritmos está implementado na pasta `algorithms`. Na pasta `sudoku` e `task_scheduling` você encontrará as representações de estado e funções pertinentes a cada um dos problemas em específico. Na pasta `tests` estão os testes automatizados, que usamos para ter um certo controle de qualidade e detectar problemas que afetem as aplicações dos algoritmos.  \n",
    "\n",
    "Existem algumas dependências que são necessárias para o uso dos algoritmos criados aqui. Elas estão presentes em `requirements.txt`. Para instalá-las, você pode usar `pip install -r requirements.txt`. Essas dependências existem porque por vezes usamos uma representação de grafo do `networkx` e o `matplotlib` para facilitar a visualização dos grafos e usar uma estrutura de dados para grafo mais robusta, porém sem abstrair com bibliotecas terceiras os algoritmos de busca implementados no trabalho. Executar o código abaixo no seu jupyter notebook também vai instalar tudo:\n",
    "\n",
    "\n"
   ]
  },
  {
   "cell_type": "markdown",
   "metadata": {},
   "source": []
  },
  {
   "cell_type": "code",
   "execution_count": 3,
   "metadata": {},
   "outputs": [
    {
     "name": "stdout",
     "output_type": "stream",
     "text": [
      "Requirement already satisfied: matplotlib==3.8.0 in /home/bufulin/.pyenv/versions/3.11.6/lib/python3.11/site-packages (from -r ../requirements.txt (line 1)) (3.8.0)\n",
      "Requirement already satisfied: pygraphviz==1.11 in /home/bufulin/.pyenv/versions/3.11.6/lib/python3.11/site-packages (from -r ../requirements.txt (line 2)) (1.11)\n",
      "Requirement already satisfied: networkx==3.1 in /home/bufulin/.local/lib/python3.11/site-packages (from -r ../requirements.txt (line 3)) (3.1)\n",
      "Requirement already satisfied: plotly==5.18.0 in /home/bufulin/.pyenv/versions/3.11.6/lib/python3.11/site-packages (from -r ../requirements.txt (line 4)) (5.18.0)\n",
      "Collecting nbformat>=4.2.0 (from -r ../requirements.txt (line 5))\n",
      "  Downloading nbformat-5.9.2-py3-none-any.whl.metadata (3.4 kB)\n",
      "Requirement already satisfied: contourpy>=1.0.1 in /home/bufulin/.local/lib/python3.11/site-packages (from matplotlib==3.8.0->-r ../requirements.txt (line 1)) (1.1.1)\n",
      "Requirement already satisfied: cycler>=0.10 in /home/bufulin/.pyenv/versions/3.11.6/lib/python3.11/site-packages (from matplotlib==3.8.0->-r ../requirements.txt (line 1)) (0.12.1)\n",
      "Requirement already satisfied: fonttools>=4.22.0 in /home/bufulin/.pyenv/versions/3.11.6/lib/python3.11/site-packages (from matplotlib==3.8.0->-r ../requirements.txt (line 1)) (4.43.1)\n",
      "Requirement already satisfied: kiwisolver>=1.0.1 in /home/bufulin/.local/lib/python3.11/site-packages (from matplotlib==3.8.0->-r ../requirements.txt (line 1)) (1.4.5)\n",
      "Requirement already satisfied: numpy<2,>=1.21 in /home/bufulin/.local/lib/python3.11/site-packages (from matplotlib==3.8.0->-r ../requirements.txt (line 1)) (1.23.5)\n",
      "Requirement already satisfied: packaging>=20.0 in /home/bufulin/.pyenv/versions/3.11.6/lib/python3.11/site-packages (from matplotlib==3.8.0->-r ../requirements.txt (line 1)) (23.2)\n",
      "Requirement already satisfied: pillow>=6.2.0 in /home/bufulin/.local/lib/python3.11/site-packages (from matplotlib==3.8.0->-r ../requirements.txt (line 1)) (10.0.0)\n",
      "Requirement already satisfied: pyparsing>=2.3.1 in /home/bufulin/.pyenv/versions/3.11.6/lib/python3.11/site-packages (from matplotlib==3.8.0->-r ../requirements.txt (line 1)) (3.1.1)\n",
      "Requirement already satisfied: python-dateutil>=2.7 in /home/bufulin/.pyenv/versions/3.11.6/lib/python3.11/site-packages (from matplotlib==3.8.0->-r ../requirements.txt (line 1)) (2.8.2)\n",
      "Requirement already satisfied: tenacity>=6.2.0 in /home/bufulin/.local/lib/python3.11/site-packages (from plotly==5.18.0->-r ../requirements.txt (line 4)) (8.2.2)\n",
      "Collecting fastjsonschema (from nbformat>=4.2.0->-r ../requirements.txt (line 5))\n",
      "  Downloading fastjsonschema-2.18.1-py3-none-any.whl.metadata (2.0 kB)\n",
      "Requirement already satisfied: jsonschema>=2.6 in /home/bufulin/.local/lib/python3.11/site-packages (from nbformat>=4.2.0->-r ../requirements.txt (line 5)) (3.2.0)\n",
      "Requirement already satisfied: jupyter-core in /home/bufulin/.pyenv/versions/3.11.6/lib/python3.11/site-packages (from nbformat>=4.2.0->-r ../requirements.txt (line 5)) (5.5.0)\n",
      "Requirement already satisfied: traitlets>=5.1 in /home/bufulin/.pyenv/versions/3.11.6/lib/python3.11/site-packages (from nbformat>=4.2.0->-r ../requirements.txt (line 5)) (5.13.0)\n",
      "Requirement already satisfied: attrs>=17.4.0 in /home/bufulin/.local/lib/python3.11/site-packages (from jsonschema>=2.6->nbformat>=4.2.0->-r ../requirements.txt (line 5)) (22.2.0)\n",
      "Requirement already satisfied: pyrsistent>=0.14.0 in /home/bufulin/.local/lib/python3.11/site-packages (from jsonschema>=2.6->nbformat>=4.2.0->-r ../requirements.txt (line 5)) (0.19.3)\n",
      "Requirement already satisfied: setuptools in /home/bufulin/.local/lib/python3.11/site-packages (from jsonschema>=2.6->nbformat>=4.2.0->-r ../requirements.txt (line 5)) (68.2.2)\n",
      "Requirement already satisfied: six>=1.11.0 in /home/bufulin/.pyenv/versions/3.11.6/lib/python3.11/site-packages (from jsonschema>=2.6->nbformat>=4.2.0->-r ../requirements.txt (line 5)) (1.16.0)\n",
      "Requirement already satisfied: platformdirs>=2.5 in /home/bufulin/.pyenv/versions/3.11.6/lib/python3.11/site-packages (from jupyter-core->nbformat>=4.2.0->-r ../requirements.txt (line 5)) (3.11.0)\n",
      "Downloading nbformat-5.9.2-py3-none-any.whl (77 kB)\n",
      "\u001b[2K   \u001b[90m━━━━━━━━━━━━━━━━━━━━━━━━━━━━━━━━━━━━━━━━\u001b[0m \u001b[32m77.6/77.6 kB\u001b[0m \u001b[31m1.8 MB/s\u001b[0m eta \u001b[36m0:00:00\u001b[0ma \u001b[36m0:00:01\u001b[0m\n",
      "\u001b[?25hDownloading fastjsonschema-2.18.1-py3-none-any.whl (23 kB)\n",
      "Installing collected packages: fastjsonschema, nbformat\n",
      "Successfully installed fastjsonschema-2.18.1 nbformat-5.9.2\n",
      "\n",
      "\u001b[1m[\u001b[0m\u001b[34;49mnotice\u001b[0m\u001b[1;39;49m]\u001b[0m\u001b[39;49m A new release of pip is available: \u001b[0m\u001b[31;49m23.3\u001b[0m\u001b[39;49m -> \u001b[0m\u001b[32;49m23.3.1\u001b[0m\n",
      "\u001b[1m[\u001b[0m\u001b[34;49mnotice\u001b[0m\u001b[1;39;49m]\u001b[0m\u001b[39;49m To update, run: \u001b[0m\u001b[32;49mpip install --upgrade pip\u001b[0m\n"
     ]
    }
   ],
   "source": [
    "!pip install -r ../requirements.txt"
   ]
  },
  {
   "attachments": {},
   "cell_type": "markdown",
   "metadata": {},
   "source": [
    "\n",
    "Um makefile também está disponível para rodar os testes com um comando simplificado, e limpar os arquivos de build. \n",
    "\n",
    "Decidimos documentar esse projeto todo em inglês, usando a [PEP 257 – Docstring Conventions](https://peps.python.org/pep-0257/)\n",
    "\n",
    "\n"
   ]
  },
  {
   "attachments": {},
   "cell_type": "markdown",
   "metadata": {},
   "source": [
    "# Experimentos\n",
    "\n",
    "Separamos o relatório em mais de um documento, usando o Jupyter. Talvez a visualização desse projeto ao todo fique melhor no [repositório do github, aqui](https://github.com/pedrohba1/IA-trabalho-1/tree/main/relatorio). Daí basta clicar nos arquivos `.ipynb` que você quiser ver. Mas vamos exportar tudo em PDF, então a lógica abaixo é a mesma, só que mudando a extensão dos arquivos para `.pdf`.\n",
    "\n",
    "O relatório referente ao problema do Sudoku está, em relação á raiz, em `relatorio/sudoku.ipynb`. Se estiver pelo github, ele pode ser acessado [clicando aqui](./sudoku.ipynb) \n",
    "\n",
    "Já o relatório, do problema de escalonamento de tarefas, está em `relatorio/task_scheduling.ipynb` e mais uma vez, se for pelo github, [pode ser acessado aqui](./task_scheduling.ipynb)"
   ]
  },
  {
   "cell_type": "markdown",
   "metadata": {},
   "source": []
  }
 ],
 "metadata": {
  "kernelspec": {
   "display_name": "Python 3",
   "language": "python",
   "name": "python3"
  },
  "language_info": {
   "codemirror_mode": {
    "name": "ipython",
    "version": 3
   },
   "file_extension": ".py",
   "mimetype": "text/x-python",
   "name": "python",
   "nbconvert_exporter": "python",
   "pygments_lexer": "ipython3",
   "version": "3.11.6"
  },
  "orig_nbformat": 4
 },
 "nbformat": 4,
 "nbformat_minor": 2
}
