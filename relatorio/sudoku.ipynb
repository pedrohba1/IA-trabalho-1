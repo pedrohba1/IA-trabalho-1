{
 "cells": [
  {
   "cell_type": "markdown",
   "metadata": {},
   "source": [
    "#  Algoritmos de busca aplicados ao Sudoku (com grade simples)"
   ]
  },
  {
   "cell_type": "markdown",
   "metadata": {},
   "source": [
    "Sudoku, é um jogo baseado na colocação lógica de números. O objetivo do jogo é a colocação de números em cada uma das células vazias numa grade quadrada.\n",
    "O quebra-cabeça contém algumas pistas iniciais, que são números inseridos em algumas células, de maneira a permitir uma indução ou dedução dos números em células que estejam vazias. Cada coluna, linha e região só pode ter um número de cada, sem poder conter numeros repetidos."
   ]
  },
  {
   "cell_type": "markdown",
   "metadata": {},
   "source": [
    "Exemplos de Sudoku 4x4 6x6 9x9\n",
    "\n",
    "<img src=\"sudoku.png\" width=\"800\" height=\"400\">"
   ]
  },
  {
   "cell_type": "markdown",
   "metadata": {},
   "source": [
    "Utilizamos grafos para modelar o problema, sendo que cada nodo representa um estado do sudoku, aonde o nodo incial representa o quadro inicial com algumas celulas ja preenchidas, e cada nodo vizinho representando um novo quadro com uma nova celula preenchida com um valor valido, quando não existe um vizinho com um valor valido para aquele nodo, e feito um backtrack, criando um novo nodo com um valor diferente para aquela celula, continuando com o processo ate o estado final, aonde todas as celulas estejam preechindas com valores validos"
   ]
  },
  {
   "cell_type": "markdown",
   "metadata": {},
   "source": [
    "Cada estado e representado por um nodo no grafo\n",
    "\n",
    "<img src=\"sudoku2.png\" width=\"1000\" height=\"300\">"
   ]
  },
  {
   "cell_type": "markdown",
   "metadata": {},
   "source": [
    "No problema usamos uma heuristica simples, que conta a quantidade de celulas ainda não preenchidas.\n",
    "Tambem calculamos o custo de mover entre estados, mas como, neste caso, estamos alterando apenas um numero entre os estados, o custo e definido como 1"
   ]
  }
 ],
 "metadata": {
  "kernelspec": {
   "display_name": "Python 3",
   "language": "python",
   "name": "python3"
  },
  "language_info": {
   "name": "python",
   "version": "3.11.6"
  },
  "orig_nbformat": 4
 },
 "nbformat": 4,
 "nbformat_minor": 2
}
