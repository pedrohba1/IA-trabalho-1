{
 "cells": [
  {
   "attachments": {},
   "cell_type": "markdown",
   "metadata": {},
   "source": [
    "# Busca Aplicada: Sudoku e Escalonamento de tarefas\n",
    "\n",
    "## Visão geral do projeto\n",
    "\n",
    "Neste trabalho, aplicamos os algoritmos A estrela, busca em profundidade iterativa, subida de encosta e busca pelo menor custo\n",
    "nos problemas de escalonamento de tarefas em dois processadores e no \"puzzle\" do Sudoku (com grade simples). Os quatro algoritmos citados foram aplicados de maneira que eles são agnósticos para o problema. Isto é desde que recebam as funções, estado e espaço de busca apropriados, eles serão capazes de encontrar uma solução. \n",
    "\n",
    "Dividimos esse projeto em pacotes python, separados por pastas na raiz desse projeto. Cada um dos algoritmos está implementado na pasta `algorithms`. Na pasta `sudoku` e `task_scheduling` você encontrará as representações de estado e funções pertinentes a cada um dos problemas em específico. Na pasta `tests` estão os testes automatizados, que usamos para ter um certo controle de qualidade e detectar problemas que afetem as aplicações dos algoritmos.  \n",
    "\n",
    "Existem algumas dependências que são necessárias para o uso dos algoritmos criados aqui. Elas estão presentes em `requirements.txt`. Para instalá-las, você pode usar `pip install -r requirements.txt`.\n",
    "\n",
    "Um makefile também está disponível para rodar os testes com um comando simplificado, e limpar os arquivos de build. \n",
    "\n",
    "Decidimos documentar esse projeto todo em inglês, usando a [PEP 257 – Docstring Conventions](https://peps.python.org/pep-0257/)\n",
    "\n",
    "\n",
    "\n",
    "\n"
   ]
  },
  {
   "attachments": {},
   "cell_type": "markdown",
   "metadata": {},
   "source": [
    "# Experimentos\n",
    "\n",
    "Separamos o relatório em mais de um documento, usando o Jupyter. Talvez a visualização desse projeto ao todo fique melhor no [repositório do github, aqui](https://github.com/pedrohba1/IA-trabalho-1/tree/main/relatorio). Daí basta clicar nos arquivos `.ipynb` que você quiser ver. Mas vamos exportar tudo em PDF, então a lógica abaixo é a mesma, só que mudando a extensão dos arquivos para `.pdf`.\n",
    "\n",
    "O relatório referente ao problema do Sudoku está, em relação á raiz, em `relatorio/sudoku.ipynb`. Se estiver pelo github, ele pode ser acessado [clicando aqui](./sudoku.ipynb) \n",
    "\n",
    "Já o relatório, do problema de escalonamento de tarefas, está em `relatorio/task_scheduling.ipynb` e mais uma vez, se for pelo github, [pode ser acessado aqui](./task_scheduling.ipynb)"
   ]
  },
  {
   "cell_type": "markdown",
   "metadata": {},
   "source": []
  }
 ],
 "metadata": {
  "language_info": {
   "name": "python"
  },
  "orig_nbformat": 4
 },
 "nbformat": 4,
 "nbformat_minor": 2
}
