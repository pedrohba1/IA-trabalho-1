{
 "cells": [
  {
   "attachments": {},
   "cell_type": "markdown",
   "metadata": {},
   "source": [
    "# Algoritmos de busca aplicados ao escalonamento de tarefas com 2 processadores"
   ]
  },
  {
   "attachments": {},
   "cell_type": "markdown",
   "metadata": {},
   "source": [
    "Em primeiro lugar, precisamos elaborar como é definido o problema. Basicamente, temos um grafo direcionado acíclico, onde\n",
    "os nós representam as tarefas a serem escalonadas e as arestas representam o tempo de comunicação entre as tarefas. A direção das arestas significa que o próximo depende do anterior. Ou seja, se existe uma aresta entre A e B e a seta aponta para B, isso significa que a tarefa B depende da tarefa A.  \n",
    "\n",
    "O tempo de comunicação é levado em consideração *somente* quando duas tarefas não estão no mesmo processador. Daí, existem um tempo para que se comunique ao processo a informação que ele precisa. Exceto esse caso, ou seja, se as tarefas forem executadas todos no mesmo processador, o tempo de comunicação é desconsiderado. "
   ]
  },
  {
   "attachments": {},
   "cell_type": "markdown",
   "metadata": {},
   "source": [
    "Vamos ver um exemplo mais prático disso. Veja essa representação de grafo, usando a notação `.dot`:\n",
    "\n",
    "```dot\n",
    "strict digraph \"\" {\n",
    "\t0\t[execution_time=1];\n",
    "\t1\t[execution_time=2];\n",
    "\t3\t[execution_time=2];\n",
    "\t2\t[execution_time=4];\n",
    "\t0 -> 1\t[weight=1];\n",
    "\t0 -> 2\t[weight=1];\n",
    "\t1 -> 3\t[weight=1]\n",
    "}\n",
    "```\n",
    "\n",
    "Esse é exatamente o grafo mais simples presente no material de apoio \"Escalonamento de Tarefas\n",
    "em Multiprocessadores\". Usando o `pyplot` podemos confirmar isso visualmente:\n"
   ]
  },
  {
   "cell_type": "code",
   "execution_count": null,
   "metadata": {},
   "outputs": [],
   "source": [
    "import sys\n",
    "import os\n",
    "\n",
    "# === ignore essa parte\n",
    "# foi preciso importar de alguma maneira o código do repositório aqui e esse foi\n",
    "# o jeito mais fácil\n",
    "sys.path.append(os.path.join(os.getcwd(), '..'))\n",
    "\n",
    "from task_scheduling import *\n",
    "from algorithms import *\n",
    "\n",
    "import os\n",
    "from IPython.core.getipython import get_ipython\n",
    "# Get the current notebook's path\n",
    "notebook_path = get_ipython().getoutput('pwd')[0]\n",
    "\n",
    "# Now, you can join the notebook path with the relative path to your file\n",
    "file_path = os.path.join(notebook_path, \"../tests/task_scheduling/simple_example\")\n",
    "print(file_path)\n",
    "\n",
    "G = read_graph(file_path)\n",
    "draw(G)"
   ]
  },
  {
   "attachments": {},
   "cell_type": "markdown",
   "metadata": {},
   "source": [
    "Agora, tendo um grafo que representa um exemplo de espaço de busca do problema, podemos visualizar um exemplo de uma\n",
    "solução possível por meio de um gráfico de Gantt. Para issofoi criada uma classe para representar o que é um estado para esse problema de escalonamento em `/task_scheduling/system_types.py`, onde essa classe tem uma função útil para visualizar como está a distribuição de tarefas entre os processadores. \n",
    "\n",
    "Veja abaixo como se usa a nossa abstração de um estado e ao mesmo tempo como visualizar um estado criado."
   ]
  },
  {
   "cell_type": "code",
   "execution_count": null,
   "metadata": {},
   "outputs": [],
   "source": [
    "\n",
    "tasks_p1 = [\n",
    "Task(node_id=0, execution_time=1, communication_time=0),\n",
    "Task(node_id=1, execution_time=2, communication_time=0, dependencies=[0]),\n",
    "Task(node_id=3, execution_time=2, communication_time=0, dependencies=[1]),\n",
    "]\n",
    "tasks_p2 = [\n",
    "    Task(node_id=2, execution_time=4, communication_time=1, dependencies=[0]),\n",
    "]\n",
    "\n",
    "\n",
    "processor_A = ProcessorState(tasks_p1)\n",
    "\n",
    "task3 = Task(node_id=3, execution_time=3)\n",
    "processor_B = ProcessorState(tasks_p2)\n",
    "\n",
    "system = SystemState([processor_A, processor_B])\n",
    "system.plot_gantt_chart()"
   ]
  },
  {
   "attachments": {},
   "cell_type": "markdown",
   "metadata": {},
   "source": [
    "No exemplo acima, o gráfico de Gantt que resolve o problema de escalonamento mais simples que foi citado. Também é possível visualizar o acréscimo do tempo de comunicação entre os processadores A e B, dado que a tarefa 2 está no processador B e ela depende da tarefa 0 que terminou no processador A.\n",
    "\n",
    "Veja abaixo mais um exemplo:"
   ]
  },
  {
   "cell_type": "code",
   "execution_count": null,
   "metadata": {},
   "outputs": [],
   "source": [
    "\n",
    "tasks_p1 = [\n",
    "Task(node_id=0, execution_time=1, communication_time=0),\n",
    "Task(node_id=1, execution_time=2, communication_time=0, dependencies=[0]),\n",
    "Task(node_id=2, execution_time=4, communication_time=0, dependencies=[0]),\n",
    "]\n",
    "tasks_p2 = [\n",
    "Task(node_id=3, execution_time=2, communication_time=1, dependencies=[1]),\n",
    "]\n",
    "\n",
    "processor1 = ProcessorState(tasks_p1)\n",
    "processor2 = ProcessorState(tasks_p2)\n",
    "\n",
    "system = SystemState([processor1, processor2])\n",
    "system.plot_gantt_chart()"
   ]
  },
  {
   "attachments": {},
   "cell_type": "markdown",
   "metadata": {},
   "source": [
    "Nesse caso, o tempo de comunicação existe na tarefa 3."
   ]
  },
  {
   "attachments": {},
   "cell_type": "markdown",
   "metadata": {},
   "source": [
    "## Funções auxiliares para os algoritmos\n",
    "Como construímos os algoritmos de busca para serem agnósticos aos dois problemas desse projeto, precisamos implementar algumas funções que são usadas internamente por esses algoritmos. Essas funções fazem a parte de implementar a lógica específica de cada problema.\n",
    "\n"
   ]
  },
  {
   "attachments": {},
   "cell_type": "markdown",
   "metadata": {},
   "source": [
    "Vamos começar pela função que cria o primeiro estado do problema, a `initialize_system`:"
   ]
  },
  {
   "cell_type": "code",
   "execution_count": null,
   "metadata": {},
   "outputs": [],
   "source": [
    "init_state = initialize_system(G, 2)\n",
    "print(init_state)"
   ]
  },
  {
   "attachments": {},
   "cell_type": "markdown",
   "metadata": {},
   "source": [
    "Essa função seleciona o nó raiz ,que contém a tarefa inicial, e cria um `SystemState` com 2 processadores (podendo passar arbitrariamente quantos processadores forem necessários) assinalando a tarefa ao primeiro processador. Foi criada uma abstração para escrever o estado de uma maneira legível humanamente como pode ver acima."
   ]
  },
  {
   "attachments": {},
   "cell_type": "markdown",
   "metadata": {},
   "source": [
    "Veja agora a função `goal_check` abaixo:"
   ]
  },
  {
   "cell_type": "code",
   "execution_count": null,
   "metadata": {},
   "outputs": [],
   "source": [
    "a = goal_check(system,G)\n",
    "b = goal_check(init_state, G)\n",
    "\n",
    "print(a,b)"
   ]
  },
  {
   "attachments": {},
   "cell_type": "markdown",
   "metadata": {},
   "source": [
    "Um sistema é tido como final se todas as tarefas estão alocadas. A função retorna `True` se o estado é final, e `False` caso contrário.\n",
    "\n",
    "Note que essa função não checa se a ordem das tarefas está correta, ela já assume que o estado é válido. Ordenar adequadamente as tarefas nos processadores de forma que o estado seja válido é uma tarefa que precisa estar feita antes de usar essa função. "
   ]
  },
  {
   "attachments": {},
   "cell_type": "markdown",
   "metadata": {},
   "source": [
    "Agora, a função `find_neighbors`:"
   ]
  },
  {
   "cell_type": "code",
   "execution_count": null,
   "metadata": {},
   "outputs": [],
   "source": [
    "neighbors = find_neighbors(init_state,G)\n",
    "\n",
    "for idx, neighbor in enumerate(neighbors):\n",
    "    print(\"neighbor \",idx, \"\\n\", neighbor)"
   ]
  },
  {
   "attachments": {},
   "cell_type": "markdown",
   "metadata": {},
   "source": [
    "O que essa função faz é encontrar as próximas tarefas que podem ser alocadas e disponibilizar tudo em uma lista de vizinhos. \n",
    "\n",
    "Essa função também lida com a inserção correta dos tempos de comunicação quando é necessário. Por exemplo, vamos supor que escolhemos um dos estados anteriores. Se as próximas tarefas alocadas nos processadores, no próximo estado, dependerem de tarefas de processadores diferentes, a função `find_neighbors` levará em consideração o tempo de comunicação e fará sua adição ao tempo de finalização do sistema.\n",
    "\n",
    "Veja abaixo também a função encontrando a vizinhança de um vizinho anterior escolhido:"
   ]
  },
  {
   "cell_type": "code",
   "execution_count": null,
   "metadata": {},
   "outputs": [],
   "source": [
    "node = neighbors[0]\n",
    "neighbors = find_neighbors(node,G)"
   ]
  },
  {
   "cell_type": "code",
   "execution_count": null,
   "metadata": {},
   "outputs": [],
   "source": [
    "for idx, neighbor in enumerate(neighbors):\n",
    "    print(\"neighbor \",idx, \"\\n\", neighbor)"
   ]
  },
  {
   "attachments": {},
   "cell_type": "markdown",
   "metadata": {},
   "source": [
    "A próxima função importante é a `cost_between`. O trabalho dela é simplesmente retornar a diferença entre os custos de dois estados. \n",
    "Essa função é usada nos algoritmos de busca para definir os custos (peso das arestas) entre um nó e seus vizinhos. Veja abaixo:"
   ]
  },
  {
   "cell_type": "code",
   "execution_count": null,
   "metadata": {},
   "outputs": [],
   "source": [
    "print(cost_between(node, neighbors[0], G))\n",
    "print(cost_between(node, neighbors[1], G))\n"
   ]
  },
  {
   "attachments": {},
   "cell_type": "markdown",
   "metadata": {},
   "source": [
    "A última, mas não menos importante, é a função da `heuristic`. A ideia dessa heurística é estimar a média de recursos necessários.\n",
    "Nessa heurística, é somado o tempo de todas as tarefas ainda não alocadas nos processadores e isso é dividido pela quantidade de processadores. Essa heurística é admissível (nunca superestima, é otimista) porque ela assume paralelização perfeita, o que nunca é pior que o resultado verdadeiro. \n",
    "\n",
    "Veja abaixo como isso funciona, vamos reinicializar o primeiro estado para ficar mais evidente:"
   ]
  },
  {
   "cell_type": "code",
   "execution_count": null,
   "metadata": {},
   "outputs": [],
   "source": [
    "init_state = initialize_system(G, 2)\n",
    "print(init_state)\n",
    "print('heuristic for this state: ', heuristic(init_state, G))"
   ]
  },
  {
   "attachments": {},
   "cell_type": "markdown",
   "metadata": {},
   "source": [
    "No caso, como apenas a tarefa 0 estava alocada no primeiro processador, existiam as tarefas 1,2 e 3 ainda para serem alocadas. Somando-se o tempo de execução dessas tarefas (desconsiderando o tempo de comunicação) temos que tempo mais otimista para executá-las seria 4.\n",
    "\n",
    "# Experimentos\n",
    "\n",
    "Com todas essas funções, podemos aplicar elas nos algoritmos para encontrar as soluções para os problemas de escalonamento. Veja abaixo a aplicação no algoritmo A estrela, busca gulosa e busca em profundidade iterativa.\n",
    "\n",
    "No material de apoio foram deixados alguns grafos para "
   ]
  },
  {
   "attachments": {},
   "cell_type": "markdown",
   "metadata": {},
   "source": [
    "### A*"
   ]
  },
  {
   "cell_type": "code",
   "execution_count": null,
   "metadata": {},
   "outputs": [],
   "source": [
    "init_state = initialize_system(G, 2)\n",
    "print(init_state)\n",
    "solution_path, sG = Astar(G,init_state,goal_check,find_neighbors,heuristic,cost_between)\n",
    "\n",
    "print(\"solução encontrada: \\n\")\n",
    "\n",
    "print(solution_path[-1])"
   ]
  },
  {
   "attachments": {},
   "cell_type": "markdown",
   "metadata": {},
   "source": [
    "Também foi pedido um padrão de output, contendo algumas informações da solução. Aqui estão elas:"
   ]
  },
  {
   "cell_type": "code",
   "execution_count": null,
   "metadata": {},
   "outputs": [],
   "source": [
    "(output_gen.generate_output((solution_path, sG), \"output_Astar\", calculate_solution_cost=calculate_solution_cost))\n"
   ]
  },
  {
   "cell_type": "markdown",
   "metadata": {},
   "source": []
  },
  {
   "attachments": {},
   "cell_type": "markdown",
   "metadata": {},
   "source": [
    "É importante ressaltar que todos os passos para chegar na solução estão no `solution_path`. Podemos visualizar o gráfio de Gantt de cada etapa se for necessário, veja da última:"
   ]
  },
  {
   "cell_type": "code",
   "execution_count": null,
   "metadata": {},
   "outputs": [],
   "source": [
    "solution_path[-1].plot_gantt_chart()"
   ]
  },
  {
   "attachments": {},
   "cell_type": "markdown",
   "metadata": {},
   "source": [
    "### Busca Gulosa"
   ]
  },
  {
   "cell_type": "code",
   "execution_count": null,
   "metadata": {},
   "outputs": [],
   "source": [
    "init_state = initialize_system(G, 2)\n",
    "print(init_state)\n",
    "solution_path, sG = greedy_search(G,init_state,goal_check,find_neighbors,heuristic)\n",
    "print(solution_path[-1])\n",
    "\n",
    "solution_path[-1].plot_gantt_chart()"
   ]
  },
  {
   "attachments": {},
   "cell_type": "markdown",
   "metadata": {},
   "source": [
    "Veja que interessante. O algoritmo da busca gulosa alocou todas as tarefas em um mesmo processador. Dado que a busca gulosa usa apenas a heurística para tomar a decisão, pode ser que talvez essa heurística tenha que ser melhorada. \n",
    "\n",
    "Abaixo, veja alguas informações sobre a solução:"
   ]
  },
  {
   "cell_type": "code",
   "execution_count": null,
   "metadata": {},
   "outputs": [],
   "source": [
    "(output_gen.generate_output((solution_path, sG), \"output_Greedy\", calculate_solution_cost=calculate_solution_cost))\n"
   ]
  }
 ],
 "metadata": {
  "kernelspec": {
   "display_name": "Python 3",
   "language": "python",
   "name": "python3"
  },
  "language_info": {
   "codemirror_mode": {
    "name": "ipython",
    "version": 3
   },
   "file_extension": ".py",
   "mimetype": "text/x-python",
   "name": "python",
   "nbconvert_exporter": "python",
   "pygments_lexer": "ipython3",
   "version": "3.11.6"
  },
  "orig_nbformat": 4
 },
 "nbformat": 4,
 "nbformat_minor": 2
}
